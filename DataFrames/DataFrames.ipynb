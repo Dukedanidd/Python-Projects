{
 "cells": [
  {
   "cell_type": "code",
   "execution_count": 1,
   "metadata": {},
   "outputs": [],
   "source": [
    "import pandas as pd"
   ]
  },
  {
   "cell_type": "code",
   "execution_count": 2,
   "metadata": {},
   "outputs": [
    {
     "name": "stdout",
     "output_type": "stream",
     "text": [
      "    name  age      city\n",
      "0   John   28  New York\n",
      "1   Anna   27     Paris\n",
      "2  Peter   32    Berlin\n",
      "3  Linda   14    London\n"
     ]
    }
   ],
   "source": [
    "data = {\n",
    "    'name': ['John', 'Anna', 'Peter', 'Linda'],\n",
    "    'age': [28,27,32,14],\n",
    "    'city': ['New York', 'Paris', 'Berlin', 'London']\n",
    "}\n",
    "\n",
    "df = pd.DataFrame(data)\n",
    "print(df)\n"
   ]
  },
  {
   "cell_type": "code",
   "execution_count": 3,
   "metadata": {},
   "outputs": [
    {
     "name": "stdout",
     "output_type": "stream",
     "text": [
      "    name  age      city  Salario\n",
      "0   John   28  New York    50000\n",
      "1   Anna   27     Paris    60000\n",
      "2  Peter   32    Berlin    70000\n",
      "3  Linda   14    London    80000\n"
     ]
    }
   ],
   "source": [
    "df['Salario'] = [50000, 60000, 70000, 80000]\n",
    "print(df)\n"
   ]
  },
  {
   "cell_type": "code",
   "execution_count": 4,
   "metadata": {},
   "outputs": [
    {
     "name": "stdout",
     "output_type": "stream",
     "text": [
      "    name  age      city  Salario\n",
      "0   John   28  New York    52000\n",
      "1   Anna   27     Paris    62000\n",
      "2  Peter   32    Berlin    72000\n",
      "3  Linda   14    London    82000\n"
     ]
    }
   ],
   "source": [
    "df['Salario'] = df['Salario'] + 2000\n",
    "print(df)\n"
   ]
  },
  {
   "cell_type": "code",
   "execution_count": null,
   "metadata": {},
   "outputs": [],
   "source": [
    "name = df['name']\n",
    "name"
   ]
  }
 ],
 "metadata": {
  "kernelspec": {
   "display_name": "Python 3",
   "language": "python",
   "name": "python3"
  },
  "language_info": {
   "codemirror_mode": {
    "name": "ipython",
    "version": 3
   },
   "file_extension": ".py",
   "mimetype": "text/x-python",
   "name": "python",
   "nbconvert_exporter": "python",
   "pygments_lexer": "ipython3",
   "version": "3.12.4"
  }
 },
 "nbformat": 4,
 "nbformat_minor": 2
}
