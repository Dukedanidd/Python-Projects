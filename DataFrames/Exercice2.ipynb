{
 "cells": [
  {
   "cell_type": "code",
   "execution_count": 1,
   "metadata": {},
   "outputs": [],
   "source": [
    "import pandas as pd"
   ]
  },
  {
   "cell_type": "code",
   "execution_count": 5,
   "metadata": {},
   "outputs": [
    {
     "name": "stdout",
     "output_type": "stream",
     "text": [
      "   Nombre  Edad     Ciudad\n",
      "0     Ana    25     Madrid\n",
      "1    Luis    30  Barcelona\n",
      "2  Carlos    22   Valencia\n",
      "3    Sara    27     Bilbao\n"
     ]
    }
   ],
   "source": [
    "#Realiza las siguientes operaciones:\n",
    "\n",
    "#Crea un dataframe llamado df\n",
    "\n",
    "#Agrega una nueva columna llamada Edad_en_10_años que contenga la edad de las personas dentro de 10 años.\n",
    "\n",
    "data = {\n",
    "    'Nombre': ['Ana', 'Luis', 'Carlos', 'Sara'],\n",
    "    'Edad': [25, 30, 22, 27],\n",
    "    'Ciudad': ['Madrid', 'Barcelona', 'Valencia', 'Bilbao']\n",
    "}\n",
    "\n",
    "df = pd.DataFrame(data)\n",
    "print(df)"
   ]
  },
  {
   "cell_type": "code",
   "execution_count": 8,
   "metadata": {},
   "outputs": [
    {
     "name": "stdout",
     "output_type": "stream",
     "text": [
      "   Nombre  Edad     Ciudad  Edad en 10 anos  Edad en 10 años\n",
      "0     Ana    25     Madrid               35               35\n",
      "1    Luis    30  Barcelona               40               40\n",
      "2  Carlos    22   Valencia               32               32\n",
      "3    Sara    27     Bilbao               37               37\n"
     ]
    }
   ],
   "source": [
    "df['Edad en 10 años'] = df['Edad'] + 10\n",
    "print(df)\n"
   ]
  },
  {
   "cell_type": "code",
   "execution_count": 9,
   "metadata": {},
   "outputs": [
    {
     "name": "stdout",
     "output_type": "stream",
     "text": [
      "   Nombre  Edad     Ciudad  Edad en 10 anos  Edad en 10 años\n",
      "0     Ana    25     MADRID               35               35\n",
      "1    Luis    30  BARCELONA               40               40\n",
      "2  Carlos    22   VALENCIA               32               32\n",
      "3    Sara    27     BILBAO               37               37\n",
      "   Nombre  Edad     Ciudad  Edad en 10 anos  Edad en 10 años  Es mayor de 25\n",
      "0     Ana    25     MADRID               35               35            True\n",
      "1    Luis    30  BARCELONA               40               40            True\n",
      "2  Carlos    22   VALENCIA               32               32           False\n",
      "3    Sara    27     BILBAO               37               37            True\n"
     ]
    }
   ],
   "source": [
    "df['Ciudad'] = df['Ciudad'].str.upper()\n",
    "print(df)\n",
    "\n",
    "df['Es mayor de 25'] = df['Edad'] >= 25\n",
    "print(df)\n"
   ]
  }
 ],
 "metadata": {
  "kernelspec": {
   "display_name": "Python 3",
   "language": "python",
   "name": "python3"
  },
  "language_info": {
   "codemirror_mode": {
    "name": "ipython",
    "version": 3
   },
   "file_extension": ".py",
   "mimetype": "text/x-python",
   "name": "python",
   "nbconvert_exporter": "python",
   "pygments_lexer": "ipython3",
   "version": "3.12.4"
  }
 },
 "nbformat": 4,
 "nbformat_minor": 2
}
