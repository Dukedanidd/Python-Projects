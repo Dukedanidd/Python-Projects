{
 "cells": [
  {
   "cell_type": "code",
   "execution_count": 1,
   "metadata": {},
   "outputs": [],
   "source": [
    "import pandas as pd"
   ]
  },
  {
   "cell_type": "code",
   "execution_count": 7,
   "metadata": {},
   "outputs": [
    {
     "name": "stdout",
     "output_type": "stream",
     "text": [
      "   Nombre  Edad     Ciudad\n",
      "0     Ana    25     Madrid\n",
      "1    Luis    30  Barcelona\n",
      "2  Carlos    22   Valencia\n",
      "3    Sara    27     Bilbao\n"
     ]
    }
   ],
   "source": [
    "#Dado el DataFrame df con columnas Nombre, Edad y Ciudad,\n",
    "# como se mostró en la lección, escribe un código para filtrar \n",
    "# las filas que contienen personas de 25 años o más. Asegurate de \n",
    "# guardar en el dataframe filtrado en una variable llamada: df_filtrado\n",
    "\n",
    "# Datos proporcionados\n",
    "data = {\n",
    "    'Nombre': ['Ana', 'Luis', 'Carlos', 'Sara'],\n",
    "    'Edad': [25, 30, 22, 27],\n",
    "    'Ciudad': ['Madrid', 'Barcelona', 'Valencia', 'Bilbao']\n",
    "}\n",
    "\n",
    "df = pd.DataFrame(data)\n",
    "print(df)\n"
   ]
  },
  {
   "cell_type": "code",
   "execution_count": 9,
   "metadata": {},
   "outputs": [
    {
     "name": "stdout",
     "output_type": "stream",
     "text": [
      "0     True\n",
      "1     True\n",
      "2    False\n",
      "3     True\n",
      "Name: Edad, dtype: bool\n"
     ]
    }
   ],
   "source": [
    "df_filtrado = df['Edad'] >= 25\n",
    "print(df_filtrado)\n"
   ]
  },
  {
   "cell_type": "code",
   "execution_count": null,
   "metadata": {},
   "outputs": [],
   "source": []
  }
 ],
 "metadata": {
  "kernelspec": {
   "display_name": "Python 3",
   "language": "python",
   "name": "python3"
  },
  "language_info": {
   "codemirror_mode": {
    "name": "ipython",
    "version": 3
   },
   "file_extension": ".py",
   "mimetype": "text/x-python",
   "name": "python",
   "nbconvert_exporter": "python",
   "pygments_lexer": "ipython3",
   "version": "3.12.4"
  }
 },
 "nbformat": 4,
 "nbformat_minor": 2
}
