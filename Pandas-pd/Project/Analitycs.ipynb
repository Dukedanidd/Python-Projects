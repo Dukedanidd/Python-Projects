{
 "cells": [
  {
   "cell_type": "code",
   "execution_count": 1,
   "metadata": {},
   "outputs": [],
   "source": [
    "import pandas as pd"
   ]
  },
  {
   "cell_type": "code",
   "execution_count": 5,
   "metadata": {},
   "outputs": [
    {
     "name": "stdout",
     "output_type": "stream",
     "text": [
      "         Fecha    Producto  Cantidad  Precio Unitario  Total Venta\n",
      "0    1/17/2023  Electrónic         7              200         1400\n",
      "1     9/1/2023  Electrónic         8              200         1600\n",
      "2    7/29/2023    Juguetes         3               30           90\n",
      "3    10/4/2023   Alimentos         4               10           40\n",
      "4    2/28/2023  Electrónic         6              200         1200\n",
      "..         ...         ...       ...              ...          ...\n",
      "995  4/27/2023   Alimentos         2               10           20\n",
      "996   6/9/2023        Ropa        10               50          500\n",
      "997  8/21/2023   Alimentos         8               10           80\n",
      "998  3/28/2023  Electrónic         6              200         1200\n",
      "999   3/7/2023  Electrónic         4              200          800\n",
      "\n",
      "[1000 rows x 5 columns]\n"
     ]
    }
   ],
   "source": [
    "df = pd.read_csv('Datos_Ventas_Tienda.csv')\n",
    "\n",
    "print(df)\n"
   ]
  },
  {
   "cell_type": "code",
   "execution_count": 6,
   "metadata": {},
   "outputs": [
    {
     "name": "stdout",
     "output_type": "stream",
     "text": [
      "         Fecha    Producto  Cantidad  Precio Unitario  Total Venta\n",
      "0    8/25/2023  Electrónic         5              200         1000\n",
      "1    8/14/2023   Alimentos         9               10           90\n",
      "2    8/30/2023        Ropa         6               50          300\n",
      "3    11/9/2023   Alimentos         2               10           20\n",
      "4   10/26/2023        Ropa         8               50          400\n",
      "5    12/1/2023    Juguetes         2               30           60\n",
      "6    5/16/2023  Electrónic         4              200          800\n",
      "7     2/9/2023      Libros         1               20           20\n",
      "8     1/9/2023  Electrónic         2              200          400\n",
      "9     5/3/2023  Electrónic         6              200         1200\n",
      "10  11/30/2023  Electrónic         5              200         1000\n",
      "11  10/26/2023  Electrónic         1              200          200\n",
      "12   8/22/2023    Juguetes         3               30           90\n",
      "13    6/5/2023  Electrónic         1              200          200\n",
      "14   10/2/2023    Juguetes         6               30          180\n",
      "15   1/25/2023  Electrónic         3              200          600\n",
      "16   5/20/2023        Ropa         4               50          200\n",
      "17   4/29/2023   Alimentos         8               10           80\n",
      "18  12/20/2023        Ropa         2               50          100\n",
      "19   4/10/2023        Ropa         8               50          400\n",
      "20   5/19/2023    Juguetes         5               30          150\n",
      "21    2/3/2023  Electrónic         4              200          800\n",
      "22    3/4/2023        Ropa         5               50          250\n",
      "23  11/12/2023    Juguetes         7               30          210\n",
      "24   5/22/2023      Libros         7               20          140\n",
      "25  11/19/2023        Ropa         4               50          200\n",
      "26   7/31/2023   Alimentos         6               10           60\n",
      "27  10/11/2023        Ropa         6               50          300\n",
      "28   12/9/2023    Juguetes         4               30          120\n",
      "29    3/6/2023      Libros         9               20          180\n",
      "30   3/27/2023   Alimentos         1               10           10\n",
      "31   4/23/2023        Ropa         9               50          450\n",
      "32   5/26/2023  Electrónic         6              200         1200\n",
      "33   1/20/2023    Juguetes         5               30          150\n",
      "34   3/22/2023   Alimentos         9               10           90\n",
      "35   2/26/2023      Libros         9               20          180\n",
      "36   7/30/2023    Juguetes         1               30           30\n",
      "37  11/18/2023        Ropa         3               50          150\n",
      "38   6/20/2023      Libros         8               20          160\n",
      "39    6/6/2023      Libros         3               20           60\n",
      "40    5/2/2023   Alimentos         5               10           50\n",
      "41    8/7/2023  Electrónic         9              200         1800\n",
      "42  11/18/2023    Juguetes         8               30          240\n",
      "43   1/17/2023    Juguetes         8               30          240\n",
      "44  10/10/2023      Libros         6               20          120\n",
      "45   9/11/2023    Juguetes        10               30          300\n",
      "46    1/3/2023    Juguetes        10               30          300\n",
      "47   11/7/2023   Alimentos         3               10           30\n",
      "48   8/20/2023  Electrónic         6              200         1200\n",
      "49   7/21/2023    Juguetes         3               30           90\n"
     ]
    }
   ],
   "source": [
    "df2 = pd.read_csv('Datos_Ventas_Tienda2.csv')\n",
    "\n",
    "print(df2)\n",
    "\n"
   ]
  },
  {
   "cell_type": "code",
   "execution_count": 8,
   "metadata": {},
   "outputs": [
    {
     "name": "stdout",
     "output_type": "stream",
     "text": [
      "          Fecha    Producto  Cantidad  Precio Unitario  Total Venta\n",
      "0     1/17/2023  Electrónic         7              200         1400\n",
      "1      9/1/2023  Electrónic         8              200         1600\n",
      "2     7/29/2023    Juguetes         3               30           90\n",
      "3     10/4/2023   Alimentos         4               10           40\n",
      "4     2/28/2023  Electrónic         6              200         1200\n",
      "...         ...         ...       ...              ...          ...\n",
      "1045  9/11/2023    Juguetes        10               30          300\n",
      "1046   1/3/2023    Juguetes        10               30          300\n",
      "1047  11/7/2023   Alimentos         3               10           30\n",
      "1048  8/20/2023  Electrónic         6              200         1200\n",
      "1049  7/21/2023    Juguetes         3               30           90\n",
      "\n",
      "[1050 rows x 5 columns]\n"
     ]
    }
   ],
   "source": [
    "# Dataframes concatenation\n",
    "df = pd.concat([df, df2], ignore_index=True)\n",
    "\n",
    "print(df)"
   ]
  },
  {
   "cell_type": "code",
   "execution_count": 9,
   "metadata": {},
   "outputs": [
    {
     "name": "stdout",
     "output_type": "stream",
     "text": [
      "          Fecha    Producto  Cantidad  Precio Unitario  Total Venta\n",
      "0    2023-01-17  Electrónic         7              200         1400\n",
      "1    2023-09-01  Electrónic         8              200         1600\n",
      "2    2023-07-29    Juguetes         3               30           90\n",
      "3    2023-10-04   Alimentos         4               10           40\n",
      "4    2023-02-28  Electrónic         6              200         1200\n",
      "...         ...         ...       ...              ...          ...\n",
      "1045 2023-09-11    Juguetes        10               30          300\n",
      "1046 2023-01-03    Juguetes        10               30          300\n",
      "1047 2023-11-07   Alimentos         3               10           30\n",
      "1048 2023-08-20  Electrónic         6              200         1200\n",
      "1049 2023-07-21    Juguetes         3               30           90\n",
      "\n",
      "[1050 rows x 5 columns]\n"
     ]
    }
   ],
   "source": [
    "# Change the date format\n",
    "df['Fecha'] = pd.to_datetime(df['Fecha'])\n",
    "\n",
    "print(df)\n"
   ]
  },
  {
   "cell_type": "code",
   "execution_count": 13,
   "metadata": {},
   "outputs": [
    {
     "name": "stdout",
     "output_type": "stream",
     "text": [
      "Producto\n",
      "Alimentos     1262\n",
      "Electrónic    1220\n",
      "Ropa          1128\n",
      "Juguetes      1113\n",
      "Libros        1042\n",
      "Name: Cantidad, dtype: int64\n"
     ]
    }
   ],
   "source": [
    "# Product sold\n",
    "product_sold = df.groupby('Producto')['Cantidad'].sum()\n",
    "product_sold = product_sold.sort_values(ascending=False)\n",
    "\n",
    "print(product_sold)\n"
   ]
  },
  {
   "cell_type": "code",
   "execution_count": 14,
   "metadata": {},
   "outputs": [
    {
     "name": "stdout",
     "output_type": "stream",
     "text": [
      "          Fecha    Producto  Cantidad  Precio Unitario  Total Venta  Meses\n",
      "0    2023-01-17  Electrónic         7              200         1400      1\n",
      "1    2023-09-01  Electrónic         8              200         1600      9\n",
      "2    2023-07-29    Juguetes         3               30           90      7\n",
      "3    2023-10-04   Alimentos         4               10           40     10\n",
      "4    2023-02-28  Electrónic         6              200         1200      2\n",
      "...         ...         ...       ...              ...          ...    ...\n",
      "1045 2023-09-11    Juguetes        10               30          300      9\n",
      "1046 2023-01-03    Juguetes        10               30          300      1\n",
      "1047 2023-11-07   Alimentos         3               10           30     11\n",
      "1048 2023-08-20  Electrónic         6              200         1200      8\n",
      "1049 2023-07-21    Juguetes         3               30           90      7\n",
      "\n",
      "[1050 rows x 6 columns]\n"
     ]
    }
   ],
   "source": [
    "# Add a new column with the month of the date\n",
    "meses = []\n",
    "for f in df['Fecha']:\n",
    "    meses.append(f.month)\n",
    "\n",
    "df['Meses'] = meses\n",
    "\n",
    "print(df)\n",
    "\n",
    "\n"
   ]
  },
  {
   "cell_type": "code",
   "execution_count": 15,
   "metadata": {},
   "outputs": [
    {
     "name": "stdout",
     "output_type": "stream",
     "text": [
      "Meses\n",
      "8     45090\n",
      "1     43030\n",
      "5     39380\n",
      "12    33560\n",
      "6     30520\n",
      "2     28410\n",
      "9     27870\n",
      "7     26350\n",
      "10    25610\n",
      "4     23210\n",
      "3     23200\n",
      "11    21020\n",
      "Name: Total Venta, dtype: int64\n"
     ]
    }
   ],
   "source": [
    "# Sells by Month\n",
    "sells_by_month = df.groupby('Meses')['Total Venta'].sum().sort_values(ascending=False)\n",
    "\n",
    "print(sells_by_month)\n"
   ]
  },
  {
   "cell_type": "code",
   "execution_count": 16,
   "metadata": {},
   "outputs": [
    {
     "name": "stdout",
     "output_type": "stream",
     "text": [
      "Producto\n",
      "Alimentos      12620\n",
      "Electrónic    244000\n",
      "Juguetes       33390\n",
      "Libros         20840\n",
      "Ropa           56400\n",
      "Name: Total Venta, dtype: int64\n"
     ]
    }
   ],
   "source": [
    "# Sells by Category\n",
    "sells_by_category = df.groupby('Producto')['Total Venta'].sum()\n",
    "\n",
    "print(sells_by_category)\n",
    "\n"
   ]
  },
  {
   "cell_type": "code",
   "execution_count": 17,
   "metadata": {},
   "outputs": [],
   "source": [
    "# Save the dataframe to a new csv file\n",
    "df.to_csv('Datos_Ventas_Tienda_Analitycs.csv', index=False)"
   ]
  }
 ],
 "metadata": {
  "kernelspec": {
   "display_name": "Python 3",
   "language": "python",
   "name": "python3"
  },
  "language_info": {
   "codemirror_mode": {
    "name": "ipython",
    "version": 3
   },
   "file_extension": ".py",
   "mimetype": "text/x-python",
   "name": "python",
   "nbconvert_exporter": "python",
   "pygments_lexer": "ipython3",
   "version": "3.12.4"
  }
 },
 "nbformat": 4,
 "nbformat_minor": 2
}
