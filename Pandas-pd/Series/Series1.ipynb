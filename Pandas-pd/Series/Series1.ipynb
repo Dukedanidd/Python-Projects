{
 "cells": [
  {
   "cell_type": "code",
   "execution_count": 1,
   "metadata": {},
   "outputs": [],
   "source": [
    "import pandas as pd"
   ]
  },
  {
   "cell_type": "code",
   "execution_count": 4,
   "metadata": {},
   "outputs": [
    {
     "name": "stdout",
     "output_type": "stream",
     "text": [
      "0   2024-01-01\n",
      "1   2024-01-02\n",
      "2   2024-01-03\n",
      "3   2024-01-04\n",
      "4   2024-01-05\n",
      "5   2024-01-06\n",
      "dtype: datetime64[ns]\n"
     ]
    }
   ],
   "source": [
    "fechas = pd.Series(pd.date_range('2024-01-01' , periods = 6))\n",
    "\n",
    "print(fechas)\n"
   ]
  },
  {
   "cell_type": "code",
   "execution_count": 6,
   "metadata": {},
   "outputs": [
    {
     "name": "stdout",
     "output_type": "stream",
     "text": [
      "0   2024-01-01\n",
      "1   2024-01-02\n",
      "2   2024-01-03\n",
      "3   2024-01-04\n",
      "4   2024-01-05\n",
      "5   2024-01-06\n",
      "dtype: datetime64[ns]\n",
      "0   2024-01-31\n",
      "1   2024-02-29\n",
      "2   2024-03-31\n",
      "3   2024-04-30\n",
      "4   2024-05-31\n",
      "5   2024-06-30\n",
      "dtype: datetime64[ns]\n",
      "0   2024-12-31\n",
      "1   2025-12-31\n",
      "2   2026-12-31\n",
      "3   2027-12-31\n",
      "4   2028-12-31\n",
      "5   2029-12-31\n",
      "dtype: datetime64[ns]\n"
     ]
    },
    {
     "name": "stderr",
     "output_type": "stream",
     "text": [
      "C:\\Users\\Daniel\\AppData\\Local\\Temp\\ipykernel_23988\\1038450225.py:5: FutureWarning: 'M' is deprecated and will be removed in a future version, please use 'ME' instead.\n",
      "  fechas = pd.Series(pd.date_range('2024-01-01' , periods = 6 , freq = 'M'))\n",
      "C:\\Users\\Daniel\\AppData\\Local\\Temp\\ipykernel_23988\\1038450225.py:9: FutureWarning: 'Y' is deprecated and will be removed in a future version, please use 'YE' instead.\n",
      "  fechas = pd.Series(pd.date_range('2024-01-01' , periods = 6 , freq = 'Y'))\n"
     ]
    }
   ],
   "source": [
    "fechas = pd.Series(pd.date_range('2024-01-01' , periods = 6 , freq = 'D'))\n",
    "\n",
    "print(fechas)\n",
    "\n",
    "fechas = pd.Series(pd.date_range('2024-01-01' , periods = 6 , freq = 'M'))\n",
    "\n",
    "print(fechas)\n",
    "\n",
    "fechas = pd.Series(pd.date_range('2024-01-01' , periods = 6 , freq = 'Y'))\n",
    "\n",
    "print(fechas)"
   ]
  },
  {
   "cell_type": "code",
   "execution_count": 7,
   "metadata": {},
   "outputs": [
    {
     "name": "stdout",
     "output_type": "stream",
     "text": [
      "     Ticker       Fecha  Cierre  Referencia  Volumen     Rotacion  Ultimo  \\\n",
      "0       ANA  02/01/2019   74.80       73.90   156300  11621188.98   74.80   \n",
      "1       ANA  03/01/2019   76.34       74.80   140331  10632703.64   76.34   \n",
      "2       ANA  04/01/2019   76.62       76.34   130309  10010838.76   76.62   \n",
      "3       ANA  07/01/2019   77.14       76.62    63349   4855724.92   77.14   \n",
      "4       ANA  08/01/2019   78.24       77.14    99300   7749464.70   78.24   \n",
      "...     ...         ...     ...         ...      ...          ...     ...   \n",
      "8570    VIS  09/12/2019   48.70       48.76    40236   1958325.66   48.70   \n",
      "8571    VIS  10/12/2019   48.16       48.70    60198   2895965.78   48.16   \n",
      "8572    VIS  11/12/2019   47.96       48.16    63000   3012462.12   47.96   \n",
      "8573    VIS  12/12/2019   48.42       47.96    50218   2429199.80   48.42   \n",
      "8574    VIS  13/12/2019   48.64       48.42    62427   3038685.10   48.64   \n",
      "\n",
      "       Alto   Bajo  Promedio  \n",
      "0     75.16  72.38   74.3518  \n",
      "1     76.60  74.54   75.7687  \n",
      "2     77.40  76.40   76.8162  \n",
      "3     77.30  75.62   76.6504  \n",
      "4     78.46  77.00   78.0409  \n",
      "...     ...    ...       ...  \n",
      "8570  48.96  48.44   48.6710  \n",
      "8571  48.74  47.70   48.1201  \n",
      "8572  48.42  47.52   47.8169  \n",
      "8573  48.66  47.76   48.3731  \n",
      "8574  49.18  48.12   48.6758  \n",
      "\n",
      "[8575 rows x 10 columns]\n"
     ]
    }
   ],
   "source": [
    "df = pd.read_csv('MercadodeValoresEspaña.csv')\n",
    "\n",
    "print(df)\n"
   ]
  },
  {
   "cell_type": "code",
   "execution_count": 9,
   "metadata": {},
   "outputs": [
    {
     "data": {
      "text/plain": [
       "str"
      ]
     },
     "execution_count": 9,
     "metadata": {},
     "output_type": "execute_result"
    }
   ],
   "source": [
    "type(df['Fecha'][0])\n",
    "\n"
   ]
  },
  {
   "cell_type": "code",
   "execution_count": 11,
   "metadata": {},
   "outputs": [
    {
     "name": "stdout",
     "output_type": "stream",
     "text": [
      "     Ticker      Fecha  Cierre  Referencia  Volumen     Rotacion  Ultimo  \\\n",
      "0       ANA 2019-01-02   74.80       73.90   156300  11621188.98   74.80   \n",
      "1       ANA 2019-01-03   76.34       74.80   140331  10632703.64   76.34   \n",
      "2       ANA 2019-01-04   76.62       76.34   130309  10010838.76   76.62   \n",
      "3       ANA 2019-01-07   77.14       76.62    63349   4855724.92   77.14   \n",
      "4       ANA 2019-01-08   78.24       77.14    99300   7749464.70   78.24   \n",
      "...     ...        ...     ...         ...      ...          ...     ...   \n",
      "8570    VIS 2019-12-09   48.70       48.76    40236   1958325.66   48.70   \n",
      "8571    VIS 2019-12-10   48.16       48.70    60198   2895965.78   48.16   \n",
      "8572    VIS 2019-12-11   47.96       48.16    63000   3012462.12   47.96   \n",
      "8573    VIS 2019-12-12   48.42       47.96    50218   2429199.80   48.42   \n",
      "8574    VIS 2019-12-13   48.64       48.42    62427   3038685.10   48.64   \n",
      "\n",
      "       Alto   Bajo  Promedio  \n",
      "0     75.16  72.38   74.3518  \n",
      "1     76.60  74.54   75.7687  \n",
      "2     77.40  76.40   76.8162  \n",
      "3     77.30  75.62   76.6504  \n",
      "4     78.46  77.00   78.0409  \n",
      "...     ...    ...       ...  \n",
      "8570  48.96  48.44   48.6710  \n",
      "8571  48.74  47.70   48.1201  \n",
      "8572  48.42  47.52   47.8169  \n",
      "8573  48.66  47.76   48.3731  \n",
      "8574  49.18  48.12   48.6758  \n",
      "\n",
      "[8575 rows x 10 columns]\n"
     ]
    }
   ],
   "source": [
    "df['Fecha'] =pd.to_datetime(df['Fecha'],format = '%d/%m/%Y')\n",
    "\n",
    "print(df)\n",
    "\n"
   ]
  }
 ],
 "metadata": {
  "kernelspec": {
   "display_name": "Python 3",
   "language": "python",
   "name": "python3"
  },
  "language_info": {
   "codemirror_mode": {
    "name": "ipython",
    "version": 3
   },
   "file_extension": ".py",
   "mimetype": "text/x-python",
   "name": "python",
   "nbconvert_exporter": "python",
   "pygments_lexer": "ipython3",
   "version": "3.12.4"
  }
 },
 "nbformat": 4,
 "nbformat_minor": 2
}
