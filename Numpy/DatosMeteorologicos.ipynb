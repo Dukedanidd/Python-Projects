{
 "cells": [
  {
   "cell_type": "code",
   "execution_count": 1,
   "metadata": {},
   "outputs": [],
   "source": [
    "import numpy as np\n",
    "import pandas as pd"
   ]
  },
  {
   "cell_type": "code",
   "execution_count": 6,
   "metadata": {},
   "outputs": [
    {
     "name": "stdout",
     "output_type": "stream",
     "text": [
      "           Fecha  Temperatura  Precipitación    Humedad\n",
      "0     01/01/2010    17.440675      10.957482  52.384637\n",
      "1     02/01/2010    25.759468       5.315628  30.633530\n",
      "2     03/01/2010    20.138169      15.317706  41.496715\n",
      "3     04/01/2010    17.244159      13.151008  90.684704\n",
      "4     05/01/2010    11.182740      16.413667  22.116422\n",
      "...          ...          ...            ...        ...\n",
      "5105  24/12/2023    -9.554692      12.700998  50.094533\n",
      "5106  25/12/2023     2.837831       5.475686  92.456057\n",
      "5107  26/12/2023    29.873597       4.615012  18.362847\n",
      "5108  27/12/2023          NaN            NaN        NaN\n",
      "5109  28/12/2023    37.308043       7.330510  50.646211\n",
      "\n",
      "[5110 rows x 4 columns]\n"
     ]
    }
   ],
   "source": [
    "# Leer el archivo csv\n",
    "df = pd.read_csv('datos_meteorologicos.csv')\n",
    "print(df)\n"
   ]
  },
  {
   "cell_type": "code",
   "execution_count": 9,
   "metadata": {},
   "outputs": [
    {
     "name": "stdout",
     "output_type": "stream",
     "text": [
      "<class 'pandas.core.frame.DataFrame'>\n",
      "RangeIndex: 5110 entries, 0 to 5109\n",
      "Data columns (total 4 columns):\n",
      " #   Column         Non-Null Count  Dtype  \n",
      "---  ------         --------------  -----  \n",
      " 0   Fecha          5110 non-null   object \n",
      " 1   Temperatura    4855 non-null   float64\n",
      " 2   Precipitación  4855 non-null   float64\n",
      " 3   Humedad        4855 non-null   float64\n",
      "dtypes: float64(3), object(1)\n",
      "memory usage: 159.8+ KB\n"
     ]
    }
   ],
   "source": [
    "df.info()"
   ]
  },
  {
   "cell_type": "code",
   "execution_count": 5,
   "metadata": {},
   "outputs": [
    {
     "name": "stdout",
     "output_type": "stream",
     "text": [
      "[['01/01/2010' 17.440675196366236 10.957481997233586 52.38463748841593]\n",
      " ['02/01/2010' 25.75946831862097 5.3156276517729895 30.63352983123037]\n",
      " ['03/01/2010' 20.138168803582197 15.317706093986718 41.49671457625978]\n",
      " ...\n",
      " ['26/12/2023' 29.87359717232944 4.61501176564858 18.362847375985744]\n",
      " ['27/12/2023' nan nan nan]\n",
      " ['28/12/2023' 37.3080431767716 7.33051023049333 50.646210575443774]]\n"
     ]
    }
   ],
   "source": [
    "# Convertir el dataframe a un array\n",
    "array = df.values\n",
    "print(array)"
   ]
  },
  {
   "cell_type": "code",
   "execution_count": 11,
   "metadata": {},
   "outputs": [],
   "source": [
    "# Seleccionar las columnas de temperatura, precipitacion y humedad y convertirlas a arreglos numpy\n",
    "temperatura = df['Temperatura'].to_numpy()\n",
    "precipitacion = df['Precipitación'].to_numpy()\n",
    "humedad = df['Humedad'].to_numpy()"
   ]
  },
  {
   "cell_type": "code",
   "execution_count": 12,
   "metadata": {},
   "outputs": [
    {
     "name": "stdout",
     "output_type": "stream",
     "text": [
      "[False False False ... False  True False]\n",
      "[False False False ... False  True False]\n",
      "[False False False ... False  True False]\n"
     ]
    }
   ],
   "source": [
    "# Identificar los datos faltantes\n",
    "temp_nulos = np.isnan(temperatura)\n",
    "precip_nulos = np.isnan(precipitacion)\n",
    "hum_nulos = np.isnan(humedad)\n",
    "\n",
    "print(temp_nulos)\n",
    "print(precip_nulos)\n",
    "print(hum_nulos)\n"
   ]
  },
  {
   "cell_type": "code",
   "execution_count": null,
   "metadata": {},
   "outputs": [],
   "source": [
    "# Identificar el promedio de cada array\n",
    "promedio_temp = np.nanmean(temperatura)\n",
    "promedio_precip = np.nanmean(precipitacion)\n",
    "promedio_hum = np.nanmean(humedad)\n",
    "\n",
    "# Reemplazar los datos faltantes por el promedio\n",
    "temperatura[temp_nulos] = promedio_temp\n",
    "precipitacion[precip_nulos] = promedio_precip\n",
    "humedad[hum_nulos] = promedio_hum\n",
    "\n",
    "print(temperatura)\n",
    "print(precipitacion)\n",
    "print(humedad)\n"
   ]
  },
  {
   "cell_type": "code",
   "execution_count": null,
   "metadata": {},
   "outputs": [],
   "source": []
  }
 ],
 "metadata": {
  "kernelspec": {
   "display_name": "Python 3",
   "language": "python",
   "name": "python3"
  },
  "language_info": {
   "codemirror_mode": {
    "name": "ipython",
    "version": 3
   },
   "file_extension": ".py",
   "mimetype": "text/x-python",
   "name": "python",
   "nbconvert_exporter": "python",
   "pygments_lexer": "ipython3",
   "version": "3.12.4"
  }
 },
 "nbformat": 4,
 "nbformat_minor": 2
}
